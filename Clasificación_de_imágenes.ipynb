{
  "nbformat": 4,
  "nbformat_minor": 0,
  "metadata": {
    "colab": {
      "name": "Clasificación de imágenes.ipynb",
      "provenance": [],
      "collapsed_sections": [],
      "include_colab_link": true
    },
    "kernelspec": {
      "name": "python3",
      "display_name": "Python 3"
    },
    "accelerator": "GPU"
  },
  "cells": [
    {
      "cell_type": "markdown",
      "metadata": {
        "id": "view-in-github",
        "colab_type": "text"
      },
      "source": [
        "<a href=\"https://colab.research.google.com/github/Isamar6v/DeepLearning/blob/main/Clasificaci%C3%B3n_de_im%C3%A1genes.ipynb\" target=\"_parent\"><img src=\"https://colab.research.google.com/assets/colab-badge.svg\" alt=\"Open In Colab\"/></a>"
      ]
    },
    {
      "cell_type": "markdown",
      "metadata": {
        "id": "NDFIqemJn_bN"
      },
      "source": [
        "## Clasificación de imágenes de Cifar-10\n",
        "En este ejercicio construiremos un clasificador de imágenes con redes convolucionales. Entrenaremos nuestro modelo con la base de datos CIFAR-10 que contiene 60,000 imágenes a color de 32x32 pixeles.\n",
        "Las clases son las siguientes:\n",
        "- 0 -> aviones\n",
        "- 1 -> automóviles\n",
        "- 2 -> aves\n",
        "- 3 -> gatos\n",
        "- 4 -> venados\n",
        "- 5 -> perros\n",
        "- 6 -> ranas\n",
        "- 7 -> caballos\n",
        "- 8 -> barcos\n",
        "- 9 -> tractocamiones"
      ]
    },
    {
      "cell_type": "code",
      "metadata": {
        "id": "ypn-Dgx7jQlI"
      },
      "source": [
        "from numpy.random import seed\n",
        "seed(1)"
      ],
      "execution_count": 3,
      "outputs": []
    },
    {
      "cell_type": "code",
      "metadata": {
        "id": "TPxX1Lmp9Kg2"
      },
      "source": [
        "import matplotlib.pyplot as plt\n",
        "import numpy as np\n",
        "import tensorflow as tf\n",
        "# Librerías de keras para Deep Learning\n",
        "from tensorflow.keras.datasets import cifar10\n",
        "from tensorflow.keras.models import Sequential\n",
        "from tensorflow.keras.layers import Conv2D, MaxPooling2D, Flatten, Dense\n",
        "from tensorflow.keras import optimizers, backend\n",
        "import tensorflow.keras.utils as np_utils\n",
        "from tensorflow.keras.callbacks import ModelCheckpoint"
      ],
      "execution_count": 4,
      "outputs": []
    },
    {
      "cell_type": "code",
      "metadata": {
        "id": "P7rqzCf-EYCU",
        "outputId": "c360bb39-617a-457f-f85d-f72ca38b7021",
        "colab": {
          "base_uri": "https://localhost:8080/"
        }
      },
      "source": [
        "# Obtención de las imágenes y sus etiquetas\n",
        "# La función load_data() da como respuesta los grupos de entrenamiento y test por separado\n",
        "(x_train, y_train), (x_test, y_test) = cifar10.load_data()"
      ],
      "execution_count": 6,
      "outputs": [
        {
          "output_type": "stream",
          "text": [
            "Downloading data from https://www.cs.toronto.edu/~kriz/cifar-10-python.tar.gz\n",
            "170500096/170498071 [==============================] - 2s 0us/step\n"
          ],
          "name": "stdout"
        }
      ]
    },
    {
      "cell_type": "code",
      "metadata": {
        "id": "ZJn7S2DdFBgM",
        "outputId": "85475ad5-2e40-4a1a-88af-7a9668e92747",
        "colab": {
          "base_uri": "https://localhost:8080/"
        }
      },
      "source": [
        "print('El numero de imágenes en el conjunto x_train es:', x_train.shape[0])\n",
        "print('El numero de etiquetas en el conjunto y_train es:', y_train.shape[0])\n",
        "print('El numero de imágenes en el conjunto x_test es:', x_test.shape[0])\n",
        "print('El numero de etiquetas en el conjunto y_test es:', y_test.shape[0])"
      ],
      "execution_count": 7,
      "outputs": [
        {
          "output_type": "stream",
          "text": [
            "El numero de imágenes en el conjunto x_train es: 50000\n",
            "El numero de etiquetas en el conjunto y_train es: 50000\n",
            "El numero de imágenes en el conjunto x_test es: 10000\n",
            "El numero de etiquetas en el conjunto y_test es: 10000\n"
          ],
          "name": "stdout"
        }
      ]
    },
    {
      "cell_type": "code",
      "metadata": {
        "id": "COC0VSM4HFLZ",
        "outputId": "5229b511-8439-4c86-f6f3-31c4cd1588f1",
        "colab": {
          "base_uri": "https://localhost:8080/",
          "height": 283
        }
      },
      "source": [
        "# Inspección visual de los datos\n",
        "# Graficaremos algunas imágenes del dataset.\n",
        "n_imagen = 24678\n",
        "etiqueta = y_train[n_imagen]\n",
        "plt.imshow(x_train[n_imagen], cmap='gray')\n",
        "plt.show()\n",
        "print('La imagen de entrenamiento {}, corresponde con la etiqueta: {}'.format(n_imagen, etiqueta))"
      ],
      "execution_count": 8,
      "outputs": [
        {
          "output_type": "display_data",
          "data": {
            "image/png": "[encoded data removed]",
            "text/plain": [
              "<Figure size 432x288 with 1 Axes>"
            ]
          },
          "metadata": {
            "tags": [],
            "needs_background": "light"
          }
        },
        {
          "output_type": "stream",
          "text": [
            "La imagen de entrenamiento 24678, corresponde con la etiqueta: [1]\n"
          ],
          "name": "stdout"
        }
      ]
    },
    {
      "cell_type": "markdown",
      "metadata": {
        "id": "gyIZdlvBrbB6"
      },
      "source": [
        "## Preprocesamiento de los datos\n",
        "Cuando se entrenan redes neuronales convolucionales no es necesario aplanar las imágenes en un vector, se usan con su formato matricial y numero de canales 3 (RGB).  \n",
        "Sin embargo, es recomendable escalar los valores de los pixeles de 0-255 a 0-1.\n",
        "También es necesario convertir a codificación 1-hot las etiquetas. Con 1-hot pasamos de tener una etiqueta que representa la clase 4 a un vector de 10 elementos donde el 4° elemento sea un 1 (comenzando desde la posición 0)\n",
        "etiqueta 4 -> 0000100000"
      ]
    },
    {
      "cell_type": "code",
      "metadata": {
        "id": "JnT1kfsnFBqs"
      },
      "source": [
        "# EJERCICIO\n",
        "# Escala los valores de los pixeles\n",
        "x_train = x_train.astype('float32')\n",
        "x_test = x_test.astype('float32')\n",
        "x_train /= 255\n",
        "x_test /= 255"
      ],
      "execution_count": 9,
      "outputs": []
    },
    {
      "cell_type": "code",
      "metadata": {
        "id": "_tqzhORnIera",
        "outputId": "ff2d9c2e-e3d0-4d0e-83ad-891ce5f7eaec",
        "colab": {
          "base_uri": "https://localhost:8080/"
        }
      },
      "source": [
        "# Codificación 1-hot de las etiquetas //tomar un valor escalar y convertirlo a un vector\n",
        "y_train1 = np_utils.to_categorical(y_train)\n",
        "y_test1 = np_utils.to_categorical(y_test)\n",
        "print(y_train[100], ' -> ', y_train1[100])"
      ],
      "execution_count": 10,
      "outputs": [
        {
          "output_type": "stream",
          "text": [
            "[8]  ->  [0. 0. 0. 0. 0. 0. 0. 0. 1. 0.]\n"
          ],
          "name": "stdout"
        }
      ]
    },
    {
      "cell_type": "markdown",
      "metadata": {
        "id": "URwaXsxAt0KA"
      },
      "source": [
        "## Creación del modelo "
      ]
    },
    {
      "cell_type": "code",
      "metadata": {
        "id": "ty2ibC_NDLRE"
      },
      "source": [
        "# Con esta línea se elimina información previa de los modelos \n",
        "backend.clear_session()"
      ],
      "execution_count": 5,
      "outputs": []
    },
    {
      "cell_type": "code",
      "metadata": {
        "id": "EWgy7G2zt8PQ"
      },
      "source": [
        "# EJERCICIO\n",
        "# Definición de la arquitectura\n",
        "modeloConv = Sequential()\n",
        "modeloConv.add(Conv2D(16, kernel_size=(2,2), activation='relu', input_shape=(32,32,3))) #(perceptrones...32x32 y 3 canales)\n",
        "modeloConv.add(MaxPooling2D(pool_size=(2,2)))\n",
        "modeloConv.add(Conv2D(32, kernel_size=(2,2), activation='relu', input_shape=(32,32,3)))\n",
        "modeloConv.add(MaxPooling2D(pool_size=(2,2)))\n",
        "modeloConv.add(Conv2D(64, kernel_size=(2,2), activation='relu', input_shape=(32,32,3)))\n",
        "modeloConv.add(MaxPooling2D(pool_size=(2,2)))\n",
        "modeloConv.add(Flatten())##un vector\n",
        "modeloConv.add(Dense(200, activation='relu'))##200 neuronas en una capa\n",
        "modeloConv.add(Dense(10, activation='softmax'))"
      ],
      "execution_count": 11,
      "outputs": []
    },
    {
      "cell_type": "code",
      "metadata": {
        "id": "FAzRKgkD0VDG",
        "outputId": "b2fdde69-8292-44f5-b0df-3619a8423159",
        "colab": {
          "base_uri": "https://localhost:8080/"
        }
      },
      "source": [
        "modeloConv.summary() ##va a entrenar 127,954 pesos sinapticos"
      ],
      "execution_count": 12,
      "outputs": [
        {
          "output_type": "stream",
          "text": [
            "Model: \"sequential\"\n",
            "_________________________________________________________________\n",
            "Layer (type)                 Output Shape              Param #   \n",
            "=================================================================\n",
            "conv2d (Conv2D)              (None, 31, 31, 16)        208       \n",
            "_________________________________________________________________\n",
            "max_pooling2d (MaxPooling2D) (None, 15, 15, 16)        0         \n",
            "_________________________________________________________________\n",
            "conv2d_1 (Conv2D)            (None, 14, 14, 32)        2080      \n",
            "_________________________________________________________________\n",
            "max_pooling2d_1 (MaxPooling2 (None, 7, 7, 32)          0         \n",
            "_________________________________________________________________\n",
            "conv2d_2 (Conv2D)            (None, 6, 6, 64)          8256      \n",
            "_________________________________________________________________\n",
            "max_pooling2d_2 (MaxPooling2 (None, 3, 3, 64)          0         \n",
            "_________________________________________________________________\n",
            "flatten (Flatten)            (None, 576)               0         \n",
            "_________________________________________________________________\n",
            "dense (Dense)                (None, 200)               115400    \n",
            "_________________________________________________________________\n",
            "dense_1 (Dense)              (None, 10)                2010      \n",
            "=================================================================\n",
            "Total params: 127,954\n",
            "Trainable params: 127,954\n",
            "Non-trainable params: 0\n",
            "_________________________________________________________________\n"
          ],
          "name": "stdout"
        }
      ]
    },
    {
      "cell_type": "markdown",
      "metadata": {
        "id": "IDwCE9LX1KZ6"
      },
      "source": [
        "## Entrenamiento del modelo"
      ]
    },
    {
      "cell_type": "code",
      "metadata": {
        "id": "9SR1tzAz1QVL"
      },
      "source": [
        "# Define del optimizador Adam //Definir algoritmo que vas a entrenar (gradiente descendiente)\n",
        "adam = optimizers.Adam(lr=0.001, beta_1=0.9, beta_2=0.999, epsilon=1e-8, decay=0.0)\n",
        "\n",
        "# Compila el modelo\n",
        "modeloConv.compile(optimizer=adam, loss='categorical_crossentropy', metrics=['accuracy']) ##loss es funcion que va a minimizar relacionada al error y clasificacion es accuracy"
      ],
      "execution_count": 13,
      "outputs": []
    },
    {
      "cell_type": "code",
      "metadata": {
        "id": "7ZM_WYdCLnAk",
        "outputId": "f5736636-b870-468b-88df-0b1a8dd94e28",
        "colab": {
          "base_uri": "https://localhost:8080/"
        }
      },
      "source": [
        "# Entrenamos el modelo\n",
        "M = modeloConv.fit(x_train, y_train1, validation_data=(x_test, y_test1), epochs = 10,\n",
        "                   batch_size = 32, shuffle = True, verbose = 1) ##loss es error del modelo en ese instante y acccuracy primeras dos c/entrenamiento y otras 2 con test o validacion de 10 imagenes 7 las clasifica correctamente"
      ],
      "execution_count": 14,
      "outputs": [
        {
          "output_type": "stream",
          "text": [
            "Epoch 1/10\n",
            "1563/1563 [==============================] - 6s 4ms/step - loss: 1.5082 - accuracy: 0.4557 - val_loss: 1.2547 - val_accuracy: 0.5558\n",
            "Epoch 2/10\n",
            "1563/1563 [==============================] - 6s 4ms/step - loss: 1.1795 - accuracy: 0.5812 - val_loss: 1.1459 - val_accuracy: 0.6046\n",
            "Epoch 3/10\n",
            "1563/1563 [==============================] - 6s 4ms/step - loss: 1.0473 - accuracy: 0.6329 - val_loss: 1.0498 - val_accuracy: 0.6378\n",
            "Epoch 4/10\n",
            "1563/1563 [==============================] - 6s 4ms/step - loss: 0.9533 - accuracy: 0.6658 - val_loss: 0.9529 - val_accuracy: 0.6725\n",
            "Epoch 5/10\n",
            "1563/1563 [==============================] - 6s 4ms/step - loss: 0.8761 - accuracy: 0.6932 - val_loss: 0.9411 - val_accuracy: 0.6700\n",
            "Epoch 6/10\n",
            "1563/1563 [==============================] - 6s 4ms/step - loss: 0.8094 - accuracy: 0.7166 - val_loss: 0.9123 - val_accuracy: 0.6851\n",
            "Epoch 7/10\n",
            "1563/1563 [==============================] - 6s 4ms/step - loss: 0.7524 - accuracy: 0.7381 - val_loss: 0.8640 - val_accuracy: 0.6983\n",
            "Epoch 8/10\n",
            "1563/1563 [==============================] - 6s 4ms/step - loss: 0.7035 - accuracy: 0.7536 - val_loss: 0.8651 - val_accuracy: 0.7046\n",
            "Epoch 9/10\n",
            "1563/1563 [==============================] - 6s 4ms/step - loss: 0.6570 - accuracy: 0.7722 - val_loss: 0.8899 - val_accuracy: 0.7002\n",
            "Epoch 10/10\n",
            "1563/1563 [==============================] - 7s 4ms/step - loss: 0.6146 - accuracy: 0.7859 - val_loss: 0.8446 - val_accuracy: 0.7167\n"
          ],
          "name": "stdout"
        }
      ]
    },
    {
      "cell_type": "markdown",
      "metadata": {
        "id": "D5WmIHQGUaWE"
      },
      "source": [
        "## Evaluación del modelo"
      ]
    },
    {
      "cell_type": "code",
      "metadata": {
        "id": "3Qf05-awUjSZ",
        "outputId": "286d6894-9287-4b9c-dd9a-93acd9411b00",
        "colab": {
          "base_uri": "https://localhost:8080/",
          "height": 282
        }
      },
      "source": [
        "# Gráfica del accuracy (exactitud) durante el entrenamiento\n",
        "plt.plot(M.history['accuracy'], label='entrenamiento')\n",
        "plt.plot(M.history['val_accuracy'], label='validacion')\n",
        "plt.legend(loc='lower right')\n",
        "plt.xlabel('epocas')\n",
        "plt.ylabel('accuracy')\n",
        "plt.show()"
      ],
      "execution_count": 15,
      "outputs": [
        {
          "output_type": "display_data",
          "data": {
            "image/png": "[encoded data removed]",
            "text/plain": [
              "<Figure size 432x288 with 1 Axes>"
            ]
          },
          "metadata": {
            "tags": [],
            "needs_background": "light"
          }
        }
      ]
    },
    {
      "cell_type": "code",
      "metadata": {
        "id": "khm4kbKgUDkx",
        "outputId": "0ac79377-7bb9-47ff-849f-495a958286e3",
        "colab": {
          "base_uri": "https://localhost:8080/",
          "height": 354
        }
      },
      "source": [
        "# EJERCICIO\n",
        "# Prueba del modelo\n",
        "n_imagen = 4047\n",
        "imagen = x_test[n_imagen]\n",
        "etiqueta = y_test[n_imagen]\n",
        "prediccion = modeloConv.predict_classes(imagen.reshape(1,32,32,3))\n",
        "\n",
        "# Gráfica de la imagen\n",
        "plt.imshow(imagen)\n",
        "plt.show()\n",
        "print('La imagen {}, tiene la etiqueta {}, el modelo lo clasifica como: {}'.format(n_imagen, etiqueta, prediccion))"
      ],
      "execution_count": 16,
      "outputs": [
        {
          "output_type": "stream",
          "text": [
            "WARNING:tensorflow:From <ipython-input-16-3241bfa1a6b1>:6: Sequential.predict_classes (from tensorflow.python.keras.engine.sequential) is deprecated and will be removed after 2021-01-01.\n",
            "Instructions for updating:\n",
            "Please use instead:* `np.argmax(model.predict(x), axis=-1)`,   if your model does multi-class classification   (e.g. if it uses a `softmax` last-layer activation).* `(model.predict(x) > 0.5).astype(\"int32\")`,   if your model does binary classification   (e.g. if it uses a `sigmoid` last-layer activation).\n"
          ],
          "name": "stdout"
        },
        {
          "output_type": "display_data",
          "data": {
            "image/png": "[encoded data removed]",
            "text/plain": [
              "<Figure size 432x288 with 1 Axes>"
            ]
          },
          "metadata": {
            "tags": [],
            "needs_background": "light"
          }
        },
        {
          "output_type": "stream",
          "text": [
            "La imagen 4047, tiene la etiqueta [4], el modelo lo clasifica como: [4]\n"
          ],
          "name": "stdout"
        }
      ]
    },
    {
      "cell_type": "code",
      "metadata": {
        "id": "-VYMEkrxUnDO",
        "outputId": "b8e1a232-cb4e-4c17-9c74-053baef108c6",
        "colab": {
          "base_uri": "https://localhost:8080/"
        }
      },
      "source": [
        "# Evaluación del modelo\n",
        "evaluacion = modeloConv.evaluate(x_test, y_test1)\n",
        "error = evaluacion[0]\n",
        "accuracy = evaluacion[1]\n",
        "print('Error final del modelo: ', error)\n",
        "print('Accuracy (precisión) del modelo: ', accuracy)"
      ],
      "execution_count": 17,
      "outputs": [
        {
          "output_type": "stream",
          "text": [
            "313/313 [==============================] - 1s 3ms/step - loss: 0.8446 - accuracy: 0.7167\n",
            "Error final del modelo:  0.8446010947227478\n",
            "Accuracy (precisión) del modelo:  0.71670001745224\n"
          ],
          "name": "stdout"
        }
      ]
    }
  ]
}